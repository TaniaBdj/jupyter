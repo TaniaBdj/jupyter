{
  "metadata": {
    "kernelspec": {
      "name": "python",
      "display_name": "Python (Pyodide)",
      "language": "python"
    },
    "language_info": {
      "codemirror_mode": {
        "name": "python",
        "version": 3
      },
      "file_extension": ".py",
      "mimetype": "text/x-python",
      "name": "python",
      "nbconvert_exporter": "python",
      "pygments_lexer": "ipython3",
      "version": "3.8"
    }
  },
  "nbformat_minor": 5,
  "nbformat": 4,
  "cells": [
    {
      "id": "42b38d75-6fda-4aa7-b69d-9a6c87694cd3",
      "cell_type": "markdown",
      "source": "",
      "metadata": {}
    },
    {
      "id": "46cb568a-acde-4f3a-b055-dd1fb4048fe4",
      "cell_type": "code",
      "source": "",
      "metadata": {
        "trusted": true
      },
      "outputs": [],
      "execution_count": null
    },
    {
      "id": "5e8069a0-1b04-4337-b487-0c73e59bde43",
      "cell_type": "markdown",
      "source": "# Data Science Tools and Ecosystem",
      "metadata": {}
    },
    {
      "id": "f25435b2-8572-49c9-a783-beb73a2339b7",
      "cell_type": "markdown",
      "source": "In this notebook, Data Science Tools and Ecosystem are summarized.",
      "metadata": {}
    },
    {
      "id": "5fea711c-9d09-432e-ac63-5dcedfc6de42",
      "cell_type": "markdown",
      "source": "Some of the popular languages that Data Scientists use are:\n\n1. Python\n2. R\n3. SQL\n4. Julia",
      "metadata": {}
    },
    {
      "id": "1059d8fb-90db-4ca7-93a1-67f685c4c3b9",
      "cell_type": "markdown",
      "source": "Some of the commonly used libraries used by Data Scientists include:\n\n1. Pandas\n2. NumPy\n3. Scikit-learn\n4. TensorFlow\n5. ggplot2",
      "metadata": {}
    },
    {
      "id": "43a73305-a6b6-4ec1-8d23-48b5eb7cb8ad",
      "cell_type": "markdown",
      "source": "| Data Science Tools |\n|--------------------|\n| Jupyter Notebook   |\n| RStudio            |\n| VS Code            |",
      "metadata": {}
    },
    {
      "id": "93b4c0e4-8086-4449-b211-80a1f4de02eb",
      "cell_type": "markdown",
      "source": "### Below are a few examples of evaluating arithmetic expressions in Python",
      "metadata": {}
    },
    {
      "id": "8b75b07f-6790-4438-b7a0-5ebb9f23fb24",
      "cell_type": "code",
      "source": "# This is a simple arithmetic expression to multiply then add integers\nresult = (3 * 4) + 5\nresult",
      "metadata": {
        "trusted": true
      },
      "outputs": [
        {
          "execution_count": 4,
          "output_type": "execute_result",
          "data": {
            "text/plain": "17"
          },
          "metadata": {}
        }
      ],
      "execution_count": 4
    },
    {
      "id": "2180b391-5dce-4638-a6eb-32b30f132876",
      "cell_type": "code",
      "source": "# This will convert 200 minutes to hours by dividing by 60\nminutes = 200\nhours = minutes / 60\nhours",
      "metadata": {
        "trusted": true
      },
      "outputs": [
        {
          "execution_count": 5,
          "output_type": "execute_result",
          "data": {
            "text/plain": "3.3333333333333335"
          },
          "metadata": {}
        }
      ],
      "execution_count": 5
    },
    {
      "id": "2f5efbd4-e4a9-4b15-94a8-264a76e311df",
      "cell_type": "markdown",
      "source": "**Objectives:**\n- List popular languages for Data Science.\n- List commonly used libraries for Data Science.\n- Create tables to summarize Data Science tools.\n- Evaluate arithmetic expressions in Python.\n- Convert units (e.g., minutes to hours) using Python.",
      "metadata": {}
    },
    {
      "id": "c1591de2-636a-4aff-8fec-53081c56b196",
      "cell_type": "markdown",
      "source": "## Author\nTania",
      "metadata": {}
    },
    {
      "id": "04cb5fa4-39d7-47c3-9449-615664a06f8d",
      "cell_type": "code",
      "source": "",
      "metadata": {
        "trusted": true
      },
      "outputs": [],
      "execution_count": null
    }
  ]
}